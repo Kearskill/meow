{
  "nbformat": 4,
  "nbformat_minor": 0,
  "metadata": {
    "colab": {
      "provenance": []
    },
    "kernelspec": {
      "name": "python3",
      "display_name": "Python 3"
    },
    "language_info": {
      "name": "python"
    }
  },
  "cells": [
    {
      "cell_type": "code",
      "execution_count": null,
      "metadata": {
        "colab": {
          "base_uri": "https://localhost:8080/"
        },
        "id": "KdaiLcDeYndE",
        "outputId": "87a9635f-0ddc-4fb5-aa07-05db0b27ce24"
      },
      "outputs": [
        {
          "output_type": "stream",
          "name": "stdout",
          "text": [
            "Drive already mounted at /content/drive; to attempt to forcibly remount, call drive.mount(\"/content/drive\", force_remount=True).\n"
          ]
        }
      ],
      "source": [
        "from google.colab import drive\n",
        "drive.mount('/content/drive')"
      ]
    },
    {
      "cell_type": "code",
      "source": [
        "from google.colab import drive\n",
        "\n",
        "\n",
        "import pandas as pd\n",
        "from sklearn.model_selection import train_test_split\n",
        "from sklearn.preprocessing import StandardScaler\n",
        "from sklearn.linear_model import LogisticRegression\n",
        "from sklearn.metrics import accuracy_score, classification_report\n",
        "from sklearn.impute import SimpleImputer\n",
        "from sklearn.preprocessing import OneHotEncoder\n",
        "from sklearn.compose import ColumnTransformer\n",
        "from sklearn.pipeline import Pipeline\n",
        "\n",
        "\n",
        "\n",
        "df_train = pd.read_csv('/content/drive/MyDrive/Colab Notebooks/meow_cleaned.csv')"
      ],
      "metadata": {
        "id": "fLIlT9iyUHcj"
      },
      "execution_count": null,
      "outputs": []
    },
    {
      "cell_type": "code",
      "source": [
        "df_train = df_train.dropna(subset=['AdoptionSpeed'])"
      ],
      "metadata": {
        "id": "ru8zGHDGVxPF"
      },
      "execution_count": null,
      "outputs": []
    },
    {
      "cell_type": "markdown",
      "source": [
        "# Features and target"
      ],
      "metadata": {
        "id": "mcqdcGxMV5kN"
      }
    },
    {
      "cell_type": "code",
      "source": [
        "X = df_train[['Type', 'Age', 'Breed1', 'Breed2', 'Gender', 'Color1', 'Color2',\n",
        "              'Color3', 'MaturitySize', 'FurLength', 'Vaccinated', 'Dewormed',\n",
        "              'Sterilized', 'Health', 'Quantity', 'Fee', 'State', 'VideoAmt', 'PhotoAmt']]\n",
        "\n",
        "y = df_train['AdoptionSpeed']\n"
      ],
      "metadata": {
        "id": "XJSrm6GrV0jA"
      },
      "execution_count": null,
      "outputs": []
    },
    {
      "cell_type": "markdown",
      "source": [
        "#Preprocessing Pipeline"
      ],
      "metadata": {
        "id": "wejQYZ_EcpYP"
      }
    },
    {
      "cell_type": "code",
      "source": [
        "\n",
        "# Preprocessing Pipeline: Impute missing values and encode categorical features\n",
        "preprocessor = ColumnTransformer(\n",
        "    transformers=[\n",
        "        ('num', SimpleImputer(strategy='mean'), ['Age', 'Quantity', 'Fee', 'VideoAmt', 'PhotoAmt']),\n",
        "        ('cat', Pipeline(steps=[\n",
        "            ('imputer', SimpleImputer(strategy='most_frequent')),\n",
        "            ('encoder', OneHotEncoder(handle_unknown='ignore'))]),\n",
        "         ['Type', 'Breed1', 'Breed2', 'Gender', 'Color1', 'Color2', 'Color3', 'MaturitySize',\n",
        "          'FurLength', 'Vaccinated', 'Dewormed', 'Sterilized', 'Health', 'State'])\n",
        "    ])\n"
      ],
      "metadata": {
        "id": "6Ak1HI9TWCXh"
      },
      "execution_count": null,
      "outputs": []
    },
    {
      "cell_type": "code",
      "source": [
        "\n",
        "pipeline = Pipeline(steps=[\n",
        "    ('preprocessor', preprocessor),\n",
        "    ('scaler', StandardScaler(with_mean=False)),\n",
        "    ('classifier', LogisticRegression(max_iter=5000, solver='saga', penalty='elasticnet', l1_ratio=0.5))\n",
        "])\n"
      ],
      "metadata": {
        "id": "zWxRpfB-WGQT"
      },
      "execution_count": null,
      "outputs": []
    },
    {
      "cell_type": "markdown",
      "source": [
        "# Splitting dataset into training and testing sets\n"
      ],
      "metadata": {
        "id": "Kwru8adlc2z2"
      }
    },
    {
      "cell_type": "code",
      "source": [
        "\n",
        "\n",
        "X = df_train.drop('AdoptionSpeed', axis=1)\n",
        "y = df_train['AdoptionSpeed']\n",
        "X_train, X_test, y_train, y_test = train_test_split(X, y, test_size=0.2, random_state=42)\n"
      ],
      "metadata": {
        "id": "m0wABDq9XExc"
      },
      "execution_count": null,
      "outputs": []
    },
    {
      "cell_type": "markdown",
      "source": [],
      "metadata": {
        "id": "_cRtT-z8XHMW"
      }
    },
    {
      "cell_type": "code",
      "source": [
        "\n",
        "# Train the model\n",
        "pipeline.fit(X_train, y_train)\n",
        "\n",
        "# Make predictions\n",
        "y_pred = pipeline.predict(X_test)"
      ],
      "metadata": {
        "id": "5ZgK6IX_XF61"
      },
      "execution_count": null,
      "outputs": []
    },
    {
      "cell_type": "code",
      "source": [
        "# Evaluate the model\n",
        "print(classification_report(y_test, y_pred))\n",
        "print(accuracy_score(y_test, y_pred))\n",
        "accuracy_percentage = accuracy_score(y_test, y_pred) * 100\n",
        "print(f\"Accuracy: {accuracy_percentage:.2f}%\")"
      ],
      "metadata": {
        "colab": {
          "base_uri": "https://localhost:8080/"
        },
        "id": "0GJUxe8uYmiw",
        "outputId": "a70a8329-c4c9-450a-d4d8-b8f1f0346bbc"
      },
      "execution_count": null,
      "outputs": [
        {
          "output_type": "stream",
          "name": "stdout",
          "text": [
            "              precision    recall  f1-score   support\n",
            "\n",
            "           0       0.20      0.03      0.04        79\n",
            "           1       0.35      0.30      0.33       620\n",
            "           2       0.34      0.42      0.37       811\n",
            "           3       0.34      0.17      0.23       644\n",
            "           4       0.46      0.62      0.53       839\n",
            "\n",
            "    accuracy                           0.39      2993\n",
            "   macro avg       0.34      0.31      0.30      2993\n",
            "weighted avg       0.37      0.39      0.37      2993\n",
            "\n",
            "0.38623454727697965\n",
            "Accuracy: 38.62%\n"
          ]
        }
      ]
    }
  ]
}