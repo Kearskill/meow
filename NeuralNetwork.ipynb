{
  "nbformat": 4,
  "nbformat_minor": 0,
  "metadata": {
    "colab": {
      "provenance": [],
      "authorship_tag": "ABX9TyM6aUMKvml8S5eKTCiKufhN",
      "include_colab_link": true
    },
    "kernelspec": {
      "name": "python3",
      "display_name": "Python 3"
    },
    "language_info": {
      "name": "python"
    }
  },
  "cells": [
    {
      "cell_type": "markdown",
      "metadata": {
        "id": "view-in-github",
        "colab_type": "text"
      },
      "source": [
        "<a href=\"https://colab.research.google.com/github/Kearskill/meow/blob/az/NeuralNetwork.ipynb\" target=\"_parent\"><img src=\"https://colab.research.google.com/assets/colab-badge.svg\" alt=\"Open In Colab\"/></a>"
      ]
    },
    {
      "cell_type": "code",
      "execution_count": 1,
      "metadata": {
        "colab": {
          "base_uri": "https://localhost:8080/"
        },
        "id": "Te-ugaSX4CKH",
        "outputId": "0cea92a0-f372-4689-8db7-a750e8c1b73a"
      },
      "outputs": [
        {
          "output_type": "stream",
          "name": "stdout",
          "text": [
            "Epoch [10/50], Loss: 1.3926\n",
            "Epoch [20/50], Loss: 1.3803\n",
            "Epoch [30/50], Loss: 1.3693\n",
            "Epoch [40/50], Loss: 1.3633\n",
            "Epoch [50/50], Loss: 1.3570\n",
            "Test Accuracy: 0.3769\n"
          ]
        }
      ],
      "source": [
        "import pandas as pd\n",
        "import numpy as np\n",
        "from sklearn.model_selection import train_test_split\n",
        "from sklearn.preprocessing import StandardScaler, LabelEncoder\n",
        "import torch\n",
        "import torch.nn as nn\n",
        "import torch.optim as optim\n",
        "\n",
        "# Load and preprocess data\n",
        "df = pd.read_csv('meow_cleaned.csv')\n",
        "\n",
        "# Select features and target\n",
        "categorical_cols = ['Type', 'Gender', 'MaturitySize', 'FurLength', 'Vaccinated', 'Dewormed', 'Sterilized', 'Health']\n",
        "numerical_cols = ['Age', 'Fee', 'VideoAmt', 'PhotoAmt']\n",
        "\n",
        "# Encode categorical variables\n",
        "le = LabelEncoder()\n",
        "X_cat = df[categorical_cols].apply(le.fit_transform)\n",
        "X_num = df[numerical_cols]\n",
        "X = pd.concat([X_num, X_cat], axis=1)\n",
        "y = df['AdoptionSpeed']\n",
        "\n",
        "# Split the data\n",
        "X_train, X_test, y_train, y_test = train_test_split(X, y, test_size=0.2, random_state=42)\n",
        "\n",
        "# Scale the features\n",
        "scaler = StandardScaler()\n",
        "X_train_scaled = scaler.fit_transform(X_train)\n",
        "X_test_scaled = scaler.transform(X_test)\n",
        "\n",
        "# Convert to PyTorch tensors\n",
        "X_train_tensor = torch.FloatTensor(X_train_scaled)\n",
        "y_train_tensor = torch.LongTensor(y_train.values)\n",
        "X_test_tensor = torch.FloatTensor(X_test_scaled)\n",
        "y_test_tensor = torch.LongTensor(y_test.values)\n",
        "\n",
        "# Define the neural network\n",
        "class PetAdoptionNet(nn.Module):\n",
        "    def __init__(self):\n",
        "        super(PetAdoptionNet, self).__init__()\n",
        "        self.fc1 = nn.Linear(12, 64)\n",
        "        self.fc2 = nn.Linear(64, 32)\n",
        "        self.fc3 = nn.Linear(32, 5)\n",
        "        self.relu = nn.ReLU()\n",
        "        self.dropout = nn.Dropout(0.2)\n",
        "\n",
        "    def forward(self, x):\n",
        "        x = self.relu(self.fc1(x))\n",
        "        x = self.dropout(x)\n",
        "        x = self.relu(self.fc2(x))\n",
        "        x = self.dropout(x)\n",
        "        x = self.fc3(x)\n",
        "        return x\n",
        "\n",
        "# Initialize model, loss function, and optimizer\n",
        "model = PetAdoptionNet()\n",
        "criterion = nn.CrossEntropyLoss()\n",
        "optimizer = optim.Adam(model.parameters(), lr=0.001)\n",
        "\n",
        "# Training loop\n",
        "epochs = 50\n",
        "batch_size = 32\n",
        "n_batches = len(X_train_tensor) // batch_size\n",
        "\n",
        "for epoch in range(epochs):\n",
        "    model.train()\n",
        "    total_loss = 0\n",
        "    for i in range(n_batches):\n",
        "        start_idx = i * batch_size\n",
        "        end_idx = start_idx + batch_size\n",
        "\n",
        "        batch_X = X_train_tensor[start_idx:end_idx]\n",
        "        batch_y = y_train_tensor[start_idx:end_idx]\n",
        "\n",
        "        optimizer.zero_grad()\n",
        "        outputs = model(batch_X)\n",
        "        loss = criterion(outputs, batch_y)\n",
        "        loss.backward()\n",
        "        optimizer.step()\n",
        "        total_loss += loss.item()\n",
        "\n",
        "    if (epoch + 1) % 10 == 0:\n",
        "        print(f'Epoch [{epoch+1}/{epochs}], Loss: {total_loss/n_batches:.4f}')\n",
        "\n",
        "# Evaluate the model\n",
        "model.eval()\n",
        "with torch.no_grad():\n",
        "    test_outputs = model(X_test_tensor)\n",
        "    _, predicted = torch.max(test_outputs.data, 1)\n",
        "    accuracy = (predicted == y_test_tensor).sum().item() / len(y_test_tensor)\n",
        "    print(f'\\\n",
        "Test Accuracy: {accuracy:.4f}')"
      ]
    },
    {
      "source": [
        "!apt-get install git"
      ],
      "cell_type": "code",
      "metadata": {
        "colab": {
          "base_uri": "https://localhost:8080/"
        },
        "id": "HrMs29Tu5ldF",
        "outputId": "91623f12-d0a4-49dc-aca3-a495a45e372b"
      },
      "execution_count": 2,
      "outputs": [
        {
          "output_type": "stream",
          "name": "stdout",
          "text": [
            "Reading package lists... Done\n",
            "Building dependency tree... Done\n",
            "Reading state information... Done\n",
            "git is already the newest version (1:2.34.1-1ubuntu1.11).\n",
            "0 upgraded, 0 newly installed, 0 to remove and 49 not upgraded.\n"
          ]
        }
      ]
    },
    {
      "source": [
        "!git config --global user.name \"AZAI1007\"\n",
        "!git config --global user.email \"ameerzafran05@gmail.com\""
      ],
      "cell_type": "code",
      "metadata": {
        "id": "DWxW051f5tMM"
      },
      "execution_count": 4,
      "outputs": []
    },
    {
      "source": [
        "!git init"
      ],
      "cell_type": "code",
      "metadata": {
        "colab": {
          "base_uri": "https://localhost:8080/"
        },
        "id": "pdiKk8ZW59Qa",
        "outputId": "e83eaba7-d935-4a3e-813c-e2f36bc9ca69"
      },
      "execution_count": 5,
      "outputs": [
        {
          "output_type": "stream",
          "name": "stdout",
          "text": [
            "\u001b[33mhint: Using 'master' as the name for the initial branch. This default branch name\u001b[m\n",
            "\u001b[33mhint: is subject to change. To configure the initial branch name to use in all\u001b[m\n",
            "\u001b[33mhint: of your new repositories, which will suppress this warning, call:\u001b[m\n",
            "\u001b[33mhint: \u001b[m\n",
            "\u001b[33mhint: \tgit config --global init.defaultBranch <name>\u001b[m\n",
            "\u001b[33mhint: \u001b[m\n",
            "\u001b[33mhint: Names commonly chosen instead of 'master' are 'main', 'trunk' and\u001b[m\n",
            "\u001b[33mhint: 'development'. The just-created branch can be renamed via this command:\u001b[m\n",
            "\u001b[33mhint: \u001b[m\n",
            "\u001b[33mhint: \tgit branch -m <name>\u001b[m\n",
            "Initialized empty Git repository in /content/.git/\n"
          ]
        }
      ]
    },
    {
      "source": [
        "!git add NeuralNetwork.ipynb"
      ],
      "cell_type": "code",
      "metadata": {
        "colab": {
          "base_uri": "https://localhost:8080/"
        },
        "id": "qbCemRuN5_qG",
        "outputId": "c6fd5774-c67d-40f2-8e6e-4428ea1ac27b"
      },
      "execution_count": 6,
      "outputs": [
        {
          "output_type": "stream",
          "name": "stdout",
          "text": [
            "fatal: pathspec 'NeuralNetwork.ipynb' did not match any files\n"
          ]
        }
      ]
    },
    {
      "source": [
        "!git commit -m \"Initial commit\""
      ],
      "cell_type": "code",
      "metadata": {
        "colab": {
          "base_uri": "https://localhost:8080/"
        },
        "id": "SRNzLNjE6FBy",
        "outputId": "9707d0ed-5f62-40aa-d45a-862652512f91"
      },
      "execution_count": 7,
      "outputs": [
        {
          "output_type": "stream",
          "name": "stdout",
          "text": [
            "On branch master\n",
            "\n",
            "Initial commit\n",
            "\n",
            "Untracked files:\n",
            "  (use \"git add <file>...\" to include in what will be committed)\n",
            "\t\u001b[31m.config/\u001b[m\n",
            "\t\u001b[31mmeow_cleaned.csv\u001b[m\n",
            "\t\u001b[31msample_data/\u001b[m\n",
            "\n",
            "nothing added to commit but untracked files present (use \"git add\" to track)\n"
          ]
        }
      ]
    },
    {
      "source": [
        "!git remote add origin https://github.com/Kearskill/meow.git"
      ],
      "cell_type": "code",
      "metadata": {
        "id": "-d7-G4I-6Gqe"
      },
      "execution_count": 8,
      "outputs": []
    },
    {
      "cell_type": "code",
      "source": [],
      "metadata": {
        "id": "J55VnW686XLb"
      },
      "execution_count": null,
      "outputs": []
    },
    {
      "source": [
        "!git push -u az"
      ],
      "cell_type": "code",
      "metadata": {
        "colab": {
          "base_uri": "https://localhost:8080/"
        },
        "id": "vdc_zRau6VS-",
        "outputId": "b14ed048-9933-4c70-c2db-e2f6041a803d"
      },
      "execution_count": 10,
      "outputs": [
        {
          "output_type": "stream",
          "name": "stdout",
          "text": [
            "error: src refspec refs/heads/master does not match any\n",
            "\u001b[31merror: failed to push some refs to 'az'\n",
            "\u001b[m"
          ]
        }
      ]
    },
    {
      "source": [
        "!git branch"
      ],
      "cell_type": "code",
      "metadata": {
        "id": "mzTwYYx66g4d"
      },
      "execution_count": 11,
      "outputs": []
    },
    {
      "source": [
        "!git checkout az"
      ],
      "cell_type": "code",
      "metadata": {
        "colab": {
          "base_uri": "https://localhost:8080/"
        },
        "id": "xynUaJrM6tMF",
        "outputId": "a9f52eff-c356-4a10-959c-477406e7e4a4"
      },
      "execution_count": 13,
      "outputs": [
        {
          "output_type": "stream",
          "name": "stdout",
          "text": [
            "error: pathspec 'az' did not match any file(s) known to git\n"
          ]
        }
      ]
    },
    {
      "cell_type": "code",
      "source": [],
      "metadata": {
        "id": "-XVE9O1i7CGi"
      },
      "execution_count": null,
      "outputs": []
    },
    {
      "source": [
        "!git add .\n",
        "!git commit -m \"change\""
      ],
      "cell_type": "code",
      "metadata": {
        "colab": {
          "base_uri": "https://localhost:8080/"
        },
        "id": "AS4wlVqr6_pR",
        "outputId": "08580481-de56-4547-9a51-cd6f60600f88"
      },
      "execution_count": 14,
      "outputs": [
        {
          "output_type": "stream",
          "name": "stdout",
          "text": [
            "[master (root-commit) 460ab38] change\n",
            " 22 files changed, 65987 insertions(+)\n",
            " create mode 100644 .config/.last_opt_in_prompt.yaml\n",
            " create mode 100644 .config/.last_survey_prompt.yaml\n",
            " create mode 100644 .config/.last_update_check.json\n",
            " create mode 100644 .config/active_config\n",
            " create mode 100644 .config/config_sentinel\n",
            " create mode 100644 .config/configurations/config_default\n",
            " create mode 100644 .config/default_configs.db\n",
            " create mode 100644 .config/gce\n",
            " create mode 100644 .config/hidden_gcloud_config_universe_descriptor_data_cache_configs.db\n",
            " create mode 100644 .config/logs/2024.12.19/14.19.43.316528.log\n",
            " create mode 100644 .config/logs/2024.12.19/14.20.05.781718.log\n",
            " create mode 100644 .config/logs/2024.12.19/14.20.16.940511.log\n",
            " create mode 100644 .config/logs/2024.12.19/14.20.18.151587.log\n",
            " create mode 100644 .config/logs/2024.12.19/14.20.29.520330.log\n",
            " create mode 100644 .config/logs/2024.12.19/14.20.30.129972.log\n",
            " create mode 100644 meow_cleaned.csv\n",
            " create mode 100755 sample_data/README.md\n",
            " create mode 100755 sample_data/anscombe.json\n",
            " create mode 100644 sample_data/california_housing_test.csv\n",
            " create mode 100644 sample_data/california_housing_train.csv\n",
            " create mode 100644 sample_data/mnist_test.csv\n",
            " create mode 100644 sample_data/mnist_train_small.csv\n"
          ]
        }
      ]
    },
    {
      "source": [
        "!git push -u origin az"
      ],
      "cell_type": "code",
      "metadata": {
        "colab": {
          "base_uri": "https://localhost:8080/"
        },
        "id": "AE8-6f967Gvd",
        "outputId": "c9050917-71bf-46d8-aa8e-7f6e445006a2"
      },
      "execution_count": 15,
      "outputs": [
        {
          "output_type": "stream",
          "name": "stdout",
          "text": [
            "error: src refspec az does not match any\n",
            "\u001b[31merror: failed to push some refs to 'https://github.com/Kearskill/meow.git'\n",
            "\u001b[m"
          ]
        }
      ]
    },
    {
      "source": [
        "!git checkout -b az origin/az"
      ],
      "cell_type": "code",
      "metadata": {
        "colab": {
          "base_uri": "https://localhost:8080/"
        },
        "id": "gEtQm9vR7YOb",
        "outputId": "19fee49d-433f-4245-e987-ef09facd631f"
      },
      "execution_count": 16,
      "outputs": [
        {
          "output_type": "stream",
          "name": "stdout",
          "text": [
            "fatal: 'origin/az' is not a commit and a branch 'az' cannot be created from it\n"
          ]
        }
      ]
    },
    {
      "source": [
        "!git fetch origin"
      ],
      "cell_type": "code",
      "metadata": {
        "colab": {
          "base_uri": "https://localhost:8080/"
        },
        "id": "1CvGklPA7nSE",
        "outputId": "afe2ee2a-bd63-4334-9300-93d5789f993d"
      },
      "execution_count": 17,
      "outputs": [
        {
          "output_type": "stream",
          "name": "stdout",
          "text": [
            "remote: Enumerating objects: 69, done.\u001b[K\n",
            "remote: Counting objects: 100% (69/69), done.\u001b[K\n",
            "remote: Compressing objects: 100% (50/50), done.\u001b[K\n",
            "remote: Total 69 (delta 31), reused 43 (delta 16), pack-reused 0 (from 0)\u001b[K\n",
            "Unpacking objects: 100% (69/69), 5.19 MiB | 1.19 MiB/s, done.\n",
            "From https://github.com/Kearskill/meow\n",
            " * [new branch]      Adding-feature-Random-Forest -> origin/Adding-feature-Random-Forest\n",
            " * [new branch]      SC                           -> origin/SC\n",
            " * [new branch]      adam                         -> origin/adam\n",
            " * [new branch]      az                           -> origin/az\n",
            " * [new branch]      main                         -> origin/main\n"
          ]
        }
      ]
    },
    {
      "source": [
        "!git checkout az"
      ],
      "cell_type": "code",
      "metadata": {
        "colab": {
          "base_uri": "https://localhost:8080/"
        },
        "id": "6Bxu688D7pXY",
        "outputId": "76aa8d87-e6be-4708-f71c-e47216ae9e2f"
      },
      "execution_count": 18,
      "outputs": [
        {
          "output_type": "stream",
          "name": "stdout",
          "text": [
            "Branch 'az' set up to track remote branch 'az' from 'origin'.\n",
            "Switched to a new branch 'az'\n"
          ]
        }
      ]
    },
    {
      "source": [
        "!git add . # Stages all changes for commit\n",
        "!git commit -m \"Neural Network babi\""
      ],
      "cell_type": "code",
      "metadata": {
        "colab": {
          "base_uri": "https://localhost:8080/"
        },
        "id": "RTVP_zJa7ybC",
        "outputId": "5ab6522b-91cf-4b91-8cbe-fb6baafa91ab"
      },
      "execution_count": 19,
      "outputs": [
        {
          "output_type": "stream",
          "name": "stdout",
          "text": [
            "On branch az\n",
            "Your branch is up to date with 'origin/az'.\n",
            "\n",
            "nothing to commit, working tree clean\n"
          ]
        }
      ]
    },
    {
      "source": [
        "!git push origin az"
      ],
      "cell_type": "code",
      "metadata": {
        "colab": {
          "base_uri": "https://localhost:8080/"
        },
        "id": "m2apVYNb7475",
        "outputId": "0c51ff8b-2deb-47a8-96a1-d43a2f3cd669"
      },
      "execution_count": 20,
      "outputs": [
        {
          "output_type": "stream",
          "name": "stdout",
          "text": [
            "fatal: could not read Username for 'https://github.com': No such device or address\n"
          ]
        }
      ]
    },
    {
      "source": [
        "!git remote set-url origin git@github.com:Kearskill/meow.git"
      ],
      "cell_type": "code",
      "metadata": {
        "id": "-szHc96Y8DnL"
      },
      "execution_count": 21,
      "outputs": []
    },
    {
      "source": [
        "!git checkout az"
      ],
      "cell_type": "code",
      "metadata": {
        "colab": {
          "base_uri": "https://localhost:8080/"
        },
        "id": "4at1Kne78RQD",
        "outputId": "44cef088-cd01-4d4c-8007-bf4cd32d8904"
      },
      "execution_count": 22,
      "outputs": [
        {
          "output_type": "stream",
          "name": "stdout",
          "text": [
            "Already on 'az'\n",
            "Your branch is up to date with 'origin/az'.\n"
          ]
        }
      ]
    },
    {
      "source": [
        "!git add .\n",
        "!git commit -m \"Stuped\""
      ],
      "cell_type": "code",
      "metadata": {
        "colab": {
          "base_uri": "https://localhost:8080/"
        },
        "id": "TLzmbLYS8TBK",
        "outputId": "b5ba1c37-9683-4d73-85ec-aa2cd94e1b5a"
      },
      "execution_count": 23,
      "outputs": [
        {
          "output_type": "stream",
          "name": "stdout",
          "text": [
            "On branch az\n",
            "Your branch is up to date with 'origin/az'.\n",
            "\n",
            "nothing to commit, working tree clean\n"
          ]
        }
      ]
    },
    {
      "source": [
        "!git push origin az"
      ],
      "cell_type": "code",
      "metadata": {
        "colab": {
          "base_uri": "https://localhost:8080/"
        },
        "id": "4Nwndqwj8X0M",
        "outputId": "e6e4b6d9-b3db-4218-e5e8-71bdd9b36700"
      },
      "execution_count": 24,
      "outputs": [
        {
          "output_type": "stream",
          "name": "stdout",
          "text": [
            "Host key verification failed.\r\n",
            "fatal: Could not read from remote repository.\n",
            "\n",
            "Please make sure you have the correct access rights\n",
            "and the repository exists.\n"
          ]
        }
      ]
    }
  ]
}