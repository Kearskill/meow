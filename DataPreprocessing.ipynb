{
 "cells": [
  {
   "cell_type": "markdown",
   "metadata": {},
   "source": [
    "# 0. Zeroth Law, load all the datasets!"
   ]
  },
  {
   "cell_type": "code",
   "execution_count": null,
   "metadata": {},
   "outputs": [],
   "source": [
    "import pandas as pd\n",
    "\n",
    "df_dominant = pd.read_csv('datasett/train.csv')\n",
    "df_breed = pd.read_csv('datasett/BreedLabels.csv')\n",
    "df_color = pd.read_csv('datasett/ColorLabels.csv')\n",
    "df_state = pd.read_csv('datasett/StateLabels.csv')\n",
    "\n",
    "df_dominant"
   ]
  },
  {
   "cell_type": "markdown",
   "metadata": {},
   "source": [
    "# 1. Data Preprocessing by replacing numbers to attribute"
   ]
  },
  {
   "cell_type": "markdown",
   "metadata": {},
   "source": [
    "- PetID - Unique hash ID of pet profile\n",
    "- AdoptionSpeed - Categorical speed of adoption. Lower is faster. This is the value to predict. See below section for more info.\n",
    "- Type - Type of animal (1 = Dog, 2 = Cat)\n",
    "- Name - Name of pet (Empty if not named)\n",
    "- Age - Age of pet when listed, in months\n",
    "- Breed1 - Primary breed of pet (Refer to BreedLabels dictionary)\n",
    "- Breed2 - Secondary breed of pet, if pet is of mixed breed (Refer to BreedLabels dictionary)\n",
    "- Gender - Gender of pet (1 = Male, 2 = Female, 3 = Mixed, if profile represents group of pets)\n",
    "- Color1 - Color 1 of pet (Refer to ColorLabels dictionary)\n",
    "- Color2 - Color 2 of pet (Refer to ColorLabels dictionary)\n",
    "- Color3 - Color 3 of pet (Refer to ColorLabels dictionary)\n",
    "- MaturitySize - Size at maturity (1 = Small, 2 = Medium, 3 = Large, 4 = Extra Large, 0 = Not Specified)\n",
    "- FurLength - Fur length (1 = Short, 2 = Medium, 3 = Long, 0 = Not Specified)\n",
    "- Vaccinated - Pet has been vaccinated (1 = Yes, 2 = No, 3 = Not Sure)\n",
    "- Dewormed - Pet has been dewormed (1 = Yes, 2 = No, 3 = Not Sure)\n",
    "- Sterilized - Pet has been spayed / neutered (1 = Yes, 2 = No, 3 = Not Sure)\n",
    "- Health - Health Condition (1 = Healthy, 2 = Minor Injury, 3 = Serious Injury, 0 = Not Specified)\n",
    "- Quantity - Number of pets represented in profile\n",
    "- Fee - Adoption fee (0 = Free)\n",
    "- State - State location in Malaysia (Refer to StateLabels dictionary)\n",
    "- RescuerID - Unique hash ID of rescuer\n",
    "- VideoAmt - Total uploaded videos for this pet\n",
    "- PhotoAmt - Total uploaded photos for this pet\n",
    "- Description - Profile write-up for this pet. The primary language used is English, with some in Malay or Chinese."
   ]
  },
  {
   "cell_type": "code",
   "execution_count": 19,
   "metadata": {},
   "outputs": [],
   "source": [
    "df_processed = df_dominant"
   ]
  },
  {
   "cell_type": "markdown",
   "metadata": {},
   "source": [
    "Merging State from df_state"
   ]
  },
  {
   "cell_type": "code",
   "execution_count": null,
   "metadata": {},
   "outputs": [],
   "source": [
    "df_processed = df_processed.merge(df_state, left_on='State', right_on='StateID', how='left') # Bring the StateName from df_\n",
    "df_processed"
   ]
  },
  {
   "cell_type": "code",
   "execution_count": null,
   "metadata": {},
   "outputs": [],
   "source": [
    "# rename stateID to state\n",
    "df_processed = df_processed.drop(columns=['State','StateID'])\n",
    "df_processed = df_processed.rename(columns={'StateName':'State'})\n",
    "df_processed"
   ]
  },
  {
   "cell_type": "markdown",
   "metadata": {},
   "source": [
    "Merging breed from df_breed\n"
   ]
  },
  {
   "cell_type": "code",
   "execution_count": null,
   "metadata": {},
   "outputs": [],
   "source": [
    "df_breed"
   ]
  },
  {
   "cell_type": "markdown",
   "metadata": {},
   "source": [
    "There is 2 columns for breed, which is breed1 and breed2. \n",
    "If breed2 is zero, it means the animal is pure blooded, while if breed2 is a number, the animal is mixed with 2 types of breed.\n",
    "\n",
    "For pureblooded, i will copy the breed1 to breed2."
   ]
  },
  {
   "cell_type": "code",
   "execution_count": 23,
   "metadata": {},
   "outputs": [],
   "source": [
    "df_processed.loc[df_processed['Breed2'] == 0, 'Breed2'] = df_processed['Breed1']"
   ]
  },
  {
   "cell_type": "code",
   "execution_count": null,
   "metadata": {},
   "outputs": [],
   "source": [
    "# get data from df_breed to df_processed\n",
    "df_processed = df_processed.merge(df_breed, left_on=['Type','Breed1'], right_on=['Type','BreedID'], how='left')\n",
    "df_processed"
   ]
  },
  {
   "cell_type": "code",
   "execution_count": null,
   "metadata": {},
   "outputs": [],
   "source": [
    "# get data from df_breed to df_processed but for breed2\n",
    "df_processed = df_processed.merge(df_breed, left_on=['Type','Breed2'], right_on=['Type','BreedID'], how='left')\n",
    "df_processed"
   ]
  },
  {
   "cell_type": "markdown",
   "metadata": {},
   "source": [
    "- Type - Type of animal (1 = Dog, 2 = Cat)\n",
    "- Gender - Gender of pet (1 = Male, 2 = Female, 3 = Mixed, if profile represents group of pets)\n",
    "- MaturitySize - Size at maturity (1 = Small, 2 = Medium, 3 = Large, 4 = Extra Large, 0 = Not Specified)\n",
    "- FurLength - Fur length (1 = Short, 2 = Medium, 3 = Long, 0 = Not Specified)\n",
    "- Vaccinated - Pet has been vaccinated (1 = Yes, 2 = No, 3 = Not Sure)\n",
    "- Dewormed - Pet has been dewormed (1 = Yes, 2 = No, 3 = Not Sure)\n",
    "- Sterilized - Pet has been spayed / neutered (1 = Yes, 2 = No, 3 = Not Sure)\n",
    "- Health - Health Condition (1 = Healthy, 2 = Minor Injury, 3 = Serious Injury, 0 = Not Specified)"
   ]
  },
  {
   "cell_type": "code",
   "execution_count": null,
   "metadata": {},
   "outputs": [],
   "source": [
    "df_processed.columns"
   ]
  },
  {
   "cell_type": "code",
   "execution_count": 29,
   "metadata": {},
   "outputs": [],
   "source": [
    "df_processed['Type'] = df_processed['Type'].replace({1:'Dog',2:'Cat'})\n",
    "df_processed['Gender'] = df_processed['Gender'].replace({1:'Male',2:'Female',3:'Mixed'})\n",
    "df_processed['MaturitySize'] = df_processed['MaturitySize'].replace({1:'Small',2:'Medium',3:'Large',4:'Extra Large',0:'NA'})\n",
    "df_processed['FurLength'] = df_processed['FurLength'].replace({1:'Short',2:'Medium',3:'Long',0:'NA'})\n",
    "df_processed['Vaccinated'] = df_processed['Vaccinated'].replace({1:'Yes',2:'No',3:'NA'})\n",
    "df_processed['Dewormed'] = df_processed['Dewormed'].replace({1:'Yes',2:'No',3:'NA'})\n",
    "df_processed['Sterilized'] = df_processed['Sterilized'].replace({1:'Yes',2:'No',3:'NA'})\n",
    "df_processed['Health'] = df_processed['Health'].replace({1:'Healthy',2:'Minor Injury',3:'Serious Injury',0:'NA'})"
   ]
  },
  {
   "cell_type": "code",
   "execution_count": null,
   "metadata": {},
   "outputs": [],
   "source": [
    "df_processed"
   ]
  },
  {
   "cell_type": "markdown",
   "metadata": {},
   "source": [
    "There is 3 columns for color, which is color1 color2 color3\n",
    "\n",
    "if color 2 || color 3 is 0, it means the animal is pure colored\n",
    "therefore i will copy besides the color"
   ]
  },
  {
   "cell_type": "code",
   "execution_count": null,
   "metadata": {},
   "outputs": [],
   "source": [
    "color_mapping = {1:'Black',2:'Brown',3:'Golden',4:'Yellow',5:'Cream',6:'Gray',7:'White'}\n",
    "\n",
    "df_processed[['Color1','Color2','Color3']] = df_processed[['Color1','Color2','Color3']].replace(color_mapping)\n",
    "df_processed"
   ]
  },
  {
   "cell_type": "code",
   "execution_count": null,
   "metadata": {},
   "outputs": [],
   "source": [
    "# check for null\n",
    "zero_count = (df_processed['Color1'] == 0).sum()\n",
    "print(zero_count)\n",
    "zero_count = (df_processed['Color2'] == 0).sum()\n",
    "print(zero_count)\n",
    "zero_count = (df_processed['Color3'] == 0).sum()\n",
    "print(zero_count)"
   ]
  },
  {
   "cell_type": "code",
   "execution_count": null,
   "metadata": {},
   "outputs": [],
   "source": [
    "# apply color1 to color2\n",
    "df_processed['Color2'] = df_processed.apply(lambda row: row['Color1'] if row['Color2'] == 0 else row['Color2'], axis=1)\n",
    "# apply color2 to color3\n",
    "df_processed['Color3'] = df_processed.apply(lambda row: row['Color2'] if row['Color3'] == 0 else row['Color3'], axis=1)\n",
    "df_processed"
   ]
  },
  {
   "cell_type": "markdown",
   "metadata": {},
   "source": [
    "Data transfer should all be settled!"
   ]
  },
  {
   "cell_type": "markdown",
   "metadata": {},
   "source": [
    "# 2. Data Preprocessing for Null"
   ]
  },
  {
   "cell_type": "code",
   "execution_count": null,
   "metadata": {},
   "outputs": [],
   "source": [
    "df_processed.isnull().sum()"
   ]
  },
  {
   "cell_type": "markdown",
   "metadata": {},
   "source": [
    "- Name shouldn't be a big problem, so I would just put a generic name.\n",
    "- The description, breedid x and y is a small portion of the entire thing (14k entry), so easy drop\n"
   ]
  },
  {
   "cell_type": "code",
   "execution_count": 41,
   "metadata": {},
   "outputs": [],
   "source": [
    "df_processed['Name'] = df_processed['Name'].fillna('Still Water')"
   ]
  },
  {
   "cell_type": "code",
   "execution_count": 42,
   "metadata": {},
   "outputs": [],
   "source": [
    "df_processed = df_processed.dropna(subset=['BreedID_x','Description','BreedID_y'])"
   ]
  },
  {
   "cell_type": "code",
   "execution_count": null,
   "metadata": {},
   "outputs": [],
   "source": [
    "df_processed.isnull().sum()"
   ]
  },
  {
   "cell_type": "code",
   "execution_count": null,
   "metadata": {},
   "outputs": [],
   "source": [
    "df_processed"
   ]
  },
  {
   "cell_type": "code",
   "execution_count": 45,
   "metadata": {},
   "outputs": [],
   "source": [
    "import os\n",
    "os.makedirs('output',exist_ok=True)\n",
    "df_processed.to_csv('output/test.csv',index=True)"
   ]
  },
  {
   "cell_type": "markdown",
   "metadata": {},
   "source": [
    "Now that we have import and merge the numbers, we should drop it\n",
    "I am dropping\n",
    "- Breed1\n",
    "- Breed2\n",
    "- RescuerID\n",
    "- Description\n",
    "- BreedID_x\n",
    "- BreedID_y"
   ]
  },
  {
   "cell_type": "code",
   "execution_count": 46,
   "metadata": {},
   "outputs": [],
   "source": [
    "df_processed = df_processed.drop(columns=['Breed1', 'Breed2','RescuerID','Description','BreedID_x','BreedID_y'])"
   ]
  },
  {
   "cell_type": "code",
   "execution_count": null,
   "metadata": {},
   "outputs": [],
   "source": [
    "df_processed"
   ]
  },
  {
   "cell_type": "markdown",
   "metadata": {},
   "source": [
    "# 3. Formatting and Beautifying"
   ]
  },
  {
   "cell_type": "markdown",
   "metadata": {},
   "source": [
    "Rearrange column position!"
   ]
  },
  {
   "cell_type": "code",
   "execution_count": 48,
   "metadata": {},
   "outputs": [],
   "source": [
    "df_processed = df_processed[['PetID','Type','Name','Age','BreedName_x','BreedName_y','Gender','Color1','Color2','Color3','MaturitySize','FurLength','Vaccinated','Dewormed','Sterilized','Health','State','Quantity','Fee','VideoAmt','PhotoAmt','AdoptionSpeed']]"
   ]
  },
  {
   "cell_type": "code",
   "execution_count": null,
   "metadata": {},
   "outputs": [],
   "source": [
    "df_processed"
   ]
  },
  {
   "cell_type": "markdown",
   "metadata": {},
   "source": [
    "Change BreedName x and y to Breed1 and Breed2"
   ]
  },
  {
   "cell_type": "code",
   "execution_count": null,
   "metadata": {},
   "outputs": [],
   "source": [
    "df_processed = df_processed.rename(columns={'BreedName_x':'Breed1','BreedName_y':'Breed2'})\n",
    "df_processed"
   ]
  },
  {
   "cell_type": "markdown",
   "metadata": {},
   "source": [
    "Make 0,1,2 as fast while 3,4 slow in adoption speed"
   ]
  },
  {
   "cell_type": "code",
   "execution_count": null,
   "metadata": {},
   "outputs": [],
   "source": [
    "df_processed['AdoptionSpeedBool'] = df_processed['AdoptionSpeed'].replace({0:'Fast',1:'Fast',2:'Fast',3:'Slow',4:'Slow'})\n",
    "df_processed"
   ]
  },
  {
   "cell_type": "markdown",
   "metadata": {},
   "source": [
    "check if anything is wrong"
   ]
  },
  {
   "cell_type": "code",
   "execution_count": null,
   "metadata": {},
   "outputs": [],
   "source": [
    "df_processed.isnull().sum()"
   ]
  },
  {
   "cell_type": "markdown",
   "metadata": {},
   "source": [
    "# 4. Export the data to a csv"
   ]
  },
  {
   "cell_type": "code",
   "execution_count": null,
   "metadata": {},
   "outputs": [],
   "source": [
    "import os\n",
    "os.makedirs('datasett', exist_ok=True)\n",
    "df_processed.to_csv('datasett/meow_cleaned.csv',index=True)\n",
    "print(\"Exported to datasett/meow_cleaned.csv!\")"
   ]
  }
 ],
 "metadata": {
  "kernelspec": {
   "display_name": "Python 3",
   "language": "python",
   "name": "python3"
  },
  "language_info": {
   "codemirror_mode": {
    "name": "ipython",
    "version": 3
   },
   "file_extension": ".py",
   "mimetype": "text/x-python",
   "name": "python",
   "nbconvert_exporter": "python",
   "pygments_lexer": "ipython3",
   "version": "3.12.3"
  }
 },
 "nbformat": 4,
 "nbformat_minor": 2
}
